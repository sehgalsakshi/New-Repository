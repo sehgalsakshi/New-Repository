{
  "nbformat": 4,
  "nbformat_minor": 0,
  "metadata": {
    "colab": {
      "name": "MatplotLib Assignment.ipynb",
      "provenance": [],
      "authorship_tag": "ABX9TyO3TNhNehu3elzkYOsNbERb",
      "include_colab_link": true
    },
    "kernelspec": {
      "name": "python3",
      "display_name": "Python 3"
    }
  },
  "cells": [
    {
      "cell_type": "markdown",
      "metadata": {
        "id": "view-in-github",
        "colab_type": "text"
      },
      "source": [
        "<a href=\"https://colab.research.google.com/github/sehgalsakshi/New-Repository/blob/master/MatplotLib_Assignment.ipynb\" target=\"_parent\"><img src=\"https://colab.research.google.com/assets/colab-badge.svg\" alt=\"Open In Colab\"/></a>"
      ]
    },
    {
      "cell_type": "markdown",
      "metadata": {
        "id": "LtG-kXx6Cjtx"
      },
      "source": [
        "# MatplotLib Assignment"
      ]
    },
    {
      "cell_type": "markdown",
      "metadata": {
        "id": "iPsZU-nHCqPc"
      },
      "source": [
        "Scipy:\n",
        "We have the min and max temperatures in a city In India for each months of the year.<br>\n",
        "We would like to find a function to describe this and show it graphically, the dataset\n",
        "given below.<br>\n",
        "Task:<br>\n",
        "1.fitting it to the periodic function<br>\n",
        "2.plot the fit\n",
        "Data<br>\n",
        "Max = 39, 41, 43, 47, 49, 51, 45, 38, 37, 29, 27, 25<br>\n",
        "Min = 21, 23, 27, 28, 32, 35, 31, 28, 21, 19, 17, 18"
      ]
    },
    {
      "cell_type": "code",
      "metadata": {
        "id": "hviKjf3BCemw"
      },
      "source": [
        "import scipy\n",
        "from scipy import optimize\n",
        "import numpy as np\n",
        "from matplotlib import pyplot as plt"
      ],
      "execution_count": 2,
      "outputs": []
    },
    {
      "cell_type": "code",
      "metadata": {
        "id": "bYsbvLu9CtWB"
      },
      "source": [
        "max = [39, 41, 43, 47, 49, 51, 45, 38, 37, 29, 27, 25]\n",
        "min = [21, 23, 27, 28, 32, 35, 31, 28, 21, 19, 17, 18]\n",
        "months = np.arange(12)"
      ],
      "execution_count": 3,
      "outputs": []
    },
    {
      "cell_type": "code",
      "metadata": {
        "id": "gH5ncE7tCzUI"
      },
      "source": [
        "def get_yearly_temperature(times, avg, ampl, time_offset):\n",
        "    return (avg + ampl * np.cos((times + time_offset) * 2 * np.pi / times.max()))\n",
        "res_max, cov_max = scipy.optimize.curve_fit(get_yearly_temperature, months, max, [20, 10, 0])\n",
        "res_min, cov_min = scipy.optimize.curve_fit(get_yearly_temperature, months, min, [-40, 20, 0])"
      ],
      "execution_count": 4,
      "outputs": []
    },
    {
      "cell_type": "code",
      "metadata": {
        "id": "nxp6dwNWC98C",
        "outputId": "9fea2c95-8eae-45f3-f236-aa2913859f79",
        "colab": {
          "base_uri": "https://localhost:8080/",
          "height": 279
        }
      },
      "source": [
        "days = np.linspace(0, 12, num=365)\n",
        "\n",
        "plt.figure()\n",
        "plt.plot(months, max, 'ro')\n",
        "plt.plot(days, get_yearly_temperature(days, *res_max), 'r-')\n",
        "plt.plot(months, min, 'bo')\n",
        "plt.plot(days, get_yearly_temperature(days, *res_min), 'b-')\n",
        "plt.xlabel('Month')\n",
        "plt.ylabel('Temperature ($^\\circ$C)')\n",
        "\n",
        "plt.show()"
      ],
      "execution_count": 6,
      "outputs": [
        {
          "output_type": "display_data",
          "data": {
            "image/png": "[encoded data removed]",
            "text/plain": [
              "<Figure size 432x288 with 1 Axes>"
            ]
          },
          "metadata": {
            "tags": [],
            "needs_background": "light"
          }
        }
      ]
    },
    {
      "cell_type": "code",
      "metadata": {
        "id": "QVDaJU-rDAZK"
      },
      "source": [
        ""
      ],
      "execution_count": null,
      "outputs": []
    }
  ]
}