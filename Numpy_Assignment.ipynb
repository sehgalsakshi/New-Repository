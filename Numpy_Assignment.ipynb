{
  "nbformat": 4,
  "nbformat_minor": 0,
  "metadata": {
    "colab": {
      "name": "Numpy Assignment.ipynb",
      "provenance": [],
      "authorship_tag": "ABX9TyODp20CHZPmE4TcHh3jKmoC",
      "include_colab_link": true
    },
    "kernelspec": {
      "name": "python3",
      "display_name": "Python 3"
    }
  },
  "cells": [
    {
      "cell_type": "markdown",
      "metadata": {
        "id": "view-in-github",
        "colab_type": "text"
      },
      "source": [
        "<a href=\"https://colab.research.google.com/github/sehgalsakshi/New-Repository/blob/master/Numpy_Assignment.ipynb\" target=\"_parent\"><img src=\"https://colab.research.google.com/assets/colab-badge.svg\" alt=\"Open In Colab\"/></a>"
      ]
    },
    {
      "cell_type": "markdown",
      "metadata": {
        "id": "HNWXgIwgrBl1"
      },
      "source": [
        "## Numpy Assignment"
      ]
    },
    {
      "cell_type": "code",
      "metadata": {
        "id": "YI7wLM_kq-ga"
      },
      "source": [
        "import numpy as np"
      ],
      "execution_count": 1,
      "outputs": []
    },
    {
      "cell_type": "markdown",
      "metadata": {
        "id": "NcmpjeUjrQQo"
      },
      "source": [
        "Write a function so that the columns of the output matrix are powers of the input\n",
        "vector.\n",
        "The order of the powers is determined by the increasing boolean argument. Specifically, when\n",
        "increasing is False, the i-th output column is the input vector raised element-wise to the power\n",
        "of N - i - 1.\n",
        "\n",
        "HINT: Such a matrix with a geometric progression in each row is named for Alexandre-\n",
        "Theophile Vandermonde."
      ]
    },
    {
      "cell_type": "code",
      "metadata": {
        "id": "I3pqoodhrYIC",
        "outputId": "2b2a3f51-0683-4100-e6cc-8c30458e3b8e",
        "colab": {
          "base_uri": "https://localhost:8080/"
        }
      },
      "source": [
        "def vandermatrix(matrix, columns):\n",
        "  return np.vander(matrix, columns, increasing=True)\n",
        "\n",
        "vandermatrix(np.array([1,2,4,5,6]), 5)"
      ],
      "execution_count": 2,
      "outputs": [
        {
          "output_type": "execute_result",
          "data": {
            "text/plain": [
              "array([[   1,    1,    1,    1,    1],\n",
              "       [   1,    2,    4,    8,   16],\n",
              "       [   1,    4,   16,   64,  256],\n",
              "       [   1,    5,   25,  125,  625],\n",
              "       [   1,    6,   36,  216, 1296]])"
            ]
          },
          "metadata": {
            "tags": []
          },
          "execution_count": 2
        }
      ]
    },
    {
      "cell_type": "markdown",
      "metadata": {
        "id": "5uwXtZxKur2J"
      },
      "source": [
        "Given a sequence of n values x1, x2, ..., xn and a window size k>0, the k-th moving average of<br>\n",
        "the given sequence is defined as follows:<br>\n",
        "The moving average sequence has n-k+1 elements as shown below.<br>\n",
        "The moving averages with k=4 of a ten-value sequence (n=10) is shown below<br>\n",
        "i 1 2 3 4 5 6 7 8 9 10<br>\n",
        "===== == == == == == == == == == ==<br>\n",
        "Input 10 20 30 40 50 60 70 80 90 100<br>\n",
        "y1 25 = (10+20+30+40)/4<br>\n",
        "y2 35 = (20+30+40+50)/4<br>\n",
        "y3 45 = (30+40+50+60)/4<br>\n",
        "y4 55 = (40+50+60+70)/4<br>\n",
        "y5 65 = (50+60+70+80)/4<br>\n",
        "y6 75 = (60+70+80+90)/4<br>\n",
        "y7 85 = (70+80+90+100)/4<br>\n",
        "Thus, the moving average sequence has n-k+1=10-4+1=7 values."
      ]
    },
    {
      "cell_type": "code",
      "metadata": {
        "id": "9fJa-zMJumuI",
        "outputId": "34f70448-c216-4376-9321-5cdcf7f639ec",
        "colab": {
          "base_uri": "https://localhost:8080/"
        }
      },
      "source": [
        "arr = np.array([10,20,30,40,50,60,70,80,90,100])\n",
        "k = 4\n",
        "[np.mean(arr[i:i+k]) for i in range(len(arr)-k+1)]"
      ],
      "execution_count": 3,
      "outputs": [
        {
          "output_type": "execute_result",
          "data": {
            "text/plain": [
              "[25.0, 35.0, 45.0, 55.0, 65.0, 75.0, 85.0]"
            ]
          },
          "metadata": {
            "tags": []
          },
          "execution_count": 3
        }
      ]
    },
    {
      "cell_type": "markdown",
      "metadata": {
        "id": "f82A6WbEvB9C"
      },
      "source": [
        "Write a function to find moving average in an array over a window:\n",
        "Test it over [3, 5, 7, 2, 8, 10, 11, 65, 72, 81, 99, 100, 150] and window of 3."
      ]
    },
    {
      "cell_type": "code",
      "metadata": {
        "id": "cKHA7bTJvBBP",
        "outputId": "3c57a0d8-b6dc-45d3-e093-f555ea376b2c",
        "colab": {
          "base_uri": "https://localhost:8080/"
        }
      },
      "source": [
        "def dynamicmean(arr, window):\n",
        "  return [round(np.mean(arr[i:i+window]), 3) for i in range(len(arr)-window+1)]\n",
        "\n",
        "dynamicmean([3, 5, 7, 2, 8, 10, 11, 65, 72, 81, 99, 100, 150], 3)"
      ],
      "execution_count": 4,
      "outputs": [
        {
          "output_type": "execute_result",
          "data": {
            "text/plain": [
              "[5.0,\n",
              " 4.667,\n",
              " 5.667,\n",
              " 6.667,\n",
              " 9.667,\n",
              " 28.667,\n",
              " 49.333,\n",
              " 72.667,\n",
              " 84.0,\n",
              " 93.333,\n",
              " 116.333]"
            ]
          },
          "metadata": {
            "tags": []
          },
          "execution_count": 4
        }
      ]
    },
    {
      "cell_type": "code",
      "metadata": {
        "id": "N7MKdGbkvPmq"
      },
      "source": [
        ""
      ],
      "execution_count": null,
      "outputs": []
    }
  ]
}