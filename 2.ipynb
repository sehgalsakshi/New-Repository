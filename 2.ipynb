{
  "nbformat": 4,
  "nbformat_minor": 0,
  "metadata": {
    "colab": {
      "name": "Untitled5.ipynb",
      "provenance": [],
      "authorship_tag": "ABX9TyPbRuNE5rrgeQ0GRtoA5jKe",
      "include_colab_link": true
    },
    "kernelspec": {
      "name": "python3",
      "display_name": "Python 3"
    }
  },
  "cells": [
    {
      "cell_type": "markdown",
      "metadata": {
        "id": "view-in-github",
        "colab_type": "text"
      },
      "source": [
        "<a href=\"https://colab.research.google.com/github/sehgalsakshi/New-Repository/blob/master/2.ipynb\" target=\"_parent\"><img src=\"https://colab.research.google.com/assets/colab-badge.svg\" alt=\"Open In Colab\"/></a>"
      ]
    },
    {
      "cell_type": "markdown",
      "metadata": {
        "id": "QyiqWQlOiuMO",
        "colab_type": "text"
      },
      "source": [
        "#<center>Assignment-2</center>"
      ]
    },
    {
      "cell_type": "markdown",
      "metadata": {
        "id": "uxpDc5JSixwA",
        "colab_type": "text"
      },
      "source": [
        "1. Create below pattern with nested loop<br>\n",
        "***<br>\n",
        "****<br>\n",
        "***<br>\n",
        "**<br>\n",
        "*"
      ]
    },
    {
      "cell_type": "code",
      "metadata": {
        "id": "6DLuLDTxiqeM",
        "colab_type": "code",
        "colab": {}
      },
      "source": [
        "def get_pattern(n):\n",
        "  for i in range(n):\n",
        "    print(\"* \"*i)\n",
        "  for i in range(n,0,-1):\n",
        "    print(\"* \"*i)"
      ],
      "execution_count": 25,
      "outputs": []
    },
    {
      "cell_type": "code",
      "metadata": {
        "id": "ncE-ESl2jkBN",
        "colab_type": "code",
        "colab": {
          "base_uri": "https://localhost:8080/",
          "height": 187
        },
        "outputId": "e563a9d2-9c76-4572-9f78-a77dc2cace51"
      },
      "source": [
        "get_pattern(5)"
      ],
      "execution_count": 27,
      "outputs": [
        {
          "output_type": "stream",
          "text": [
            "\n",
            "* \n",
            "* * \n",
            "* * * \n",
            "* * * * \n",
            "* * * * * \n",
            "* * * * \n",
            "* * * \n",
            "* * \n",
            "* \n"
          ],
          "name": "stdout"
        }
      ]
    },
    {
      "cell_type": "markdown",
      "metadata": {
        "id": "KIjiwt3unLip",
        "colab_type": "text"
      },
      "source": [
        "2. Write a Python program to reverse a word after accepting the input from the user."
      ]
    },
    {
      "cell_type": "code",
      "metadata": {
        "id": "782wT5U_jl_7",
        "colab_type": "code",
        "colab": {}
      },
      "source": [
        "def reverse_word(word):\n",
        "  return word[::-1]"
      ],
      "execution_count": 28,
      "outputs": []
    },
    {
      "cell_type": "code",
      "metadata": {
        "id": "LnLUp3eTnSkA",
        "colab_type": "code",
        "colab": {
          "base_uri": "https://localhost:8080/",
          "height": 35
        },
        "outputId": "ebea27c3-61e2-486b-a7d4-10a0fd45a452"
      },
      "source": [
        "reverse_word('ineuron')"
      ],
      "execution_count": 29,
      "outputs": [
        {
          "output_type": "execute_result",
          "data": {
            "application/vnd.google.colaboratory.intrinsic+json": {
              "type": "string"
            },
            "text/plain": [
              "'norueni'"
            ]
          },
          "metadata": {
            "tags": []
          },
          "execution_count": 29
        }
      ]
    },
    {
      "cell_type": "code",
      "metadata": {
        "id": "wVZCCBgUnVA3",
        "colab_type": "code",
        "colab": {}
      },
      "source": [
        ""
      ],
      "execution_count": null,
      "outputs": []
    }
  ]
}