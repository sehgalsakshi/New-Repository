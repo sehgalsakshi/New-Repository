{
  "nbformat": 4,
  "nbformat_minor": 0,
  "metadata": {
    "colab": {
      "name": "Untitled3.ipynb",
      "provenance": [],
      "authorship_tag": "ABX9TyN4ZIn8p48cE6ecO/vMiTtQ",
      "include_colab_link": true
    },
    "kernelspec": {
      "name": "python3",
      "display_name": "Python 3"
    }
  },
  "cells": [
    {
      "cell_type": "markdown",
      "metadata": {
        "id": "view-in-github",
        "colab_type": "text"
      },
      "source": [
        "<a href=\"https://colab.research.google.com/github/sehgalsakshi/New-Repository/blob/master/3.ipynb\" target=\"_parent\"><img src=\"https://colab.research.google.com/assets/colab-badge.svg\" alt=\"Open In Colab\"/></a>"
      ]
    },
    {
      "cell_type": "markdown",
      "metadata": {
        "id": "vjbsRQiAGnUt",
        "colab_type": "text"
      },
      "source": [
        "#<center>Assignment 3</center>"
      ]
    },
    {
      "cell_type": "markdown",
      "metadata": {
        "id": "RO_nCHMIMdFS",
        "colab_type": "text"
      },
      "source": [
        "1. Write a Python Program to implement your own myreduce() function which works exactly like Python's built-in function reduce()"
      ]
    },
    {
      "cell_type": "code",
      "metadata": {
        "id": "Qm69rTXWKFsT",
        "colab_type": "code",
        "colab": {}
      },
      "source": [
        "import functools"
      ],
      "execution_count": null,
      "outputs": []
    },
    {
      "cell_type": "code",
      "metadata": {
        "id": "x1BxeHAgFzJD",
        "colab_type": "code",
        "colab": {}
      },
      "source": [
        "def myreduce(func, _list):\n",
        "  if _list is None or len(_list) == 0:\n",
        "    raise TypeError('reduce() of empty sequence with no initial value')\n",
        "  result = _list[0]\n",
        "  for i in _list[1:]:\n",
        "    result = func(result, i)\n",
        "  return result"
      ],
      "execution_count": null,
      "outputs": []
    },
    {
      "cell_type": "markdown",
      "metadata": {
        "id": "oyfERCPXR2aE",
        "colab_type": "text"
      },
      "source": [
        "### Testing my reduce"
      ]
    },
    {
      "cell_type": "code",
      "metadata": {
        "id": "bLmUvV6_Jn1c",
        "colab_type": "code",
        "colab": {
          "base_uri": "https://localhost:8080/",
          "height": 153
        },
        "outputId": "b3bb59a9-0991-4dd9-f0b7-5820c2267034"
      },
      "source": [
        "list1=range(100)\n",
        "print('Reducing list using add')\n",
        "print(f'Reducing with my reduce :D : {myreduce(lambda a,b : a+b, list1)}')\n",
        "print(f'Reducing with python\\'s reduce :( : {functools.reduce(lambda a,b : a+b, list1)}')\n",
        "print('\\n')\n",
        "print('Reducing list using max number')\n",
        "print(f'Reducing with my reduce :D : {myreduce(lambda a,b : a if a > b else b, list1)}')\n",
        "print(f'Reducing with python\\'s reduce :( : {functools.reduce(lambda a,b : a if a > b else b, list1)}')"
      ],
      "execution_count": null,
      "outputs": [
        {
          "output_type": "stream",
          "text": [
            "Reducing list using add\n",
            "Reducing with my reduce :D : 4950\n",
            "Reducing with python's reduce :( : 4950\n",
            "\n",
            "\n",
            "Reducing list using max number\n",
            "Reducing with my reduce :D : 99\n",
            "Reducing with python's reduce :( : 99\n"
          ],
          "name": "stdout"
        }
      ]
    },
    {
      "cell_type": "code",
      "metadata": {
        "id": "4neYhKbgPH4y",
        "colab_type": "code",
        "colab": {
          "base_uri": "https://localhost:8080/",
          "height": 68
        },
        "outputId": "a2416390-ac5f-4e1a-d0a6-9e010703a31e"
      },
      "source": [
        "list2 = ['a','b','c']\n",
        "print('Concatenation string')\n",
        "print(f'Reducing with my reduce :D : {myreduce(lambda a,b : a+b, list2)}')\n",
        "print(f'Reducing with python\\'s reduce :( : {functools.reduce(lambda a,b : a+b, list2)}')"
      ],
      "execution_count": null,
      "outputs": [
        {
          "output_type": "stream",
          "text": [
            "Concatenation string\n",
            "Reducing with my reduce :D : abc\n",
            "Reducing with python's reduce :( : abc\n"
          ],
          "name": "stdout"
        }
      ]
    },
    {
      "cell_type": "markdown",
      "metadata": {
        "id": "ukB8kOwPMb3A",
        "colab_type": "text"
      },
      "source": [
        "2. Write a Python Program to implement your own myfilter() function which works exactly like Python's built-in function filter()"
      ]
    },
    {
      "cell_type": "code",
      "metadata": {
        "id": "_jUl03BMM7Ei",
        "colab_type": "code",
        "colab": {}
      },
      "source": [
        "def myfilter(func, _list):\n",
        "  if _list is None or len(_list) == 0:\n",
        "    raise TypeError('filter() of empty sequence with no initial value')\n",
        "  _list = list(_list)\n",
        "  iterator_list = []\n",
        "  result_list = []\n",
        "  for i in _list:\n",
        "    iterator_list.append(func(i))\n",
        "  for idx, element in enumerate(iterator_list):\n",
        "    if element is True:\n",
        "      result_list.append(_list[idx])\n",
        "  return iterator_list, result_list"
      ],
      "execution_count": null,
      "outputs": []
    },
    {
      "cell_type": "markdown",
      "metadata": {
        "id": "LtDDyvDHRvtd",
        "colab_type": "text"
      },
      "source": [
        "### Testing my filter"
      ]
    },
    {
      "cell_type": "code",
      "metadata": {
        "id": "bmFgVAplQy4w",
        "colab_type": "code",
        "colab": {
          "base_uri": "https://localhost:8080/",
          "height": 34
        },
        "outputId": "9bdf34d7-9d53-42fc-eecf-0503696468a4"
      },
      "source": [
        "ages = [5, 12, 17, 18, 24, 32]\n",
        "\n",
        "def myFunc(x):\n",
        "  if x < 18:\n",
        "    return False\n",
        "  else:\n",
        "    return True\n",
        "\n",
        "adults = filter(myFunc, ages)\n",
        "print(list(adults))"
      ],
      "execution_count": null,
      "outputs": [
        {
          "output_type": "stream",
          "text": [
            "[18, 24, 32]\n"
          ],
          "name": "stdout"
        }
      ]
    },
    {
      "cell_type": "code",
      "metadata": {
        "id": "p9oUFZKuQ3eL",
        "colab_type": "code",
        "colab": {
          "base_uri": "https://localhost:8080/",
          "height": 34
        },
        "outputId": "96541d2a-cf6f-4076-834d-00d42bdb7234"
      },
      "source": [
        "adults_iterator, adults_list = myfilter(myFunc, ages)\n",
        "print(adults_list)"
      ],
      "execution_count": null,
      "outputs": [
        {
          "output_type": "stream",
          "text": [
            "[18, 24, 32]\n"
          ],
          "name": "stdout"
        }
      ]
    },
    {
      "cell_type": "markdown",
      "metadata": {
        "id": "cCT-P7ZLSLP5",
        "colab_type": "text"
      },
      "source": [
        "2. Implement List comprehensions to produce the following lists.<br>\n",
        "Write List comprehensions to produce the following Lists<br>\n",
        "['x', 'xx', 'xxx', 'xxxx', 'y', 'yy', 'yyy', 'yyyy', 'z', 'zz', 'zzz', 'zzzz']<br>\n",
        "['x', 'y', 'z', 'xx', 'yy', 'zz', 'xxx', 'yyy', 'zzz', 'xxxx', 'yyyy', 'zzzz']<br>\n",
        "[[2], [3], [4], [3], [4], [5], [4], [5], [6]]<br>[[2, 3, 4, 5], [3, 4, 5, 6], [4, 5, 6, 7], [5, 6, 7, 8]]<br>\n",
        "[(1, 1), (2, 1), (3, 1), (1, 2), (2, 2), (3, 2), (1,3), (2,3), (3,3)"
      ]
    },
    {
      "cell_type": "code",
      "metadata": {
        "id": "yq8zP6l-RKXw",
        "colab_type": "code",
        "colab": {
          "base_uri": "https://localhost:8080/",
          "height": 34
        },
        "outputId": "e9771031-a279-4e94-b3cc-c8708c10cf93"
      },
      "source": [
        "input_list1 = ['x','y','z']\n",
        "output_list1 = [elem*i for elem in input_list1 for i in range(1,5)]\n",
        "print(input_list1,'--->', output_list1)"
      ],
      "execution_count": null,
      "outputs": [
        {
          "output_type": "stream",
          "text": [
            "['x', 'y', 'z'] ---> ['x', 'xx', 'xxx', 'xxxx', 'y', 'yy', 'yyy', 'yyyy', 'z', 'zz', 'zzz', 'zzzz']\n"
          ],
          "name": "stdout"
        }
      ]
    },
    {
      "cell_type": "code",
      "metadata": {
        "id": "Ce2UIbLWTAAa",
        "colab_type": "code",
        "colab": {
          "base_uri": "https://localhost:8080/",
          "height": 34
        },
        "outputId": "d27cadd6-a517-4e2e-ede0-93ccd6db9cef"
      },
      "source": [
        "input_list2 = ['x','y','z']\n",
        "output_list2 = [elem*i for i in range(1,5) for elem in input_list2]\n",
        "print(input_list2,'--->', output_list2)"
      ],
      "execution_count": null,
      "outputs": [
        {
          "output_type": "stream",
          "text": [
            "['x', 'y', 'z'] ---> ['x', 'y', 'z', 'xx', 'yy', 'zz', 'xxx', 'yyy', 'zzz', 'xxxx', 'yyyy', 'zzzz']\n"
          ],
          "name": "stdout"
        }
      ]
    },
    {
      "cell_type": "code",
      "metadata": {
        "id": "IuKg9CRPUzhF",
        "colab_type": "code",
        "colab": {
          "base_uri": "https://localhost:8080/",
          "height": 34
        },
        "outputId": "64693e6c-37d5-4ada-ab30-12511a027713"
      },
      "source": [
        "input_list3 = [2,3,4]\n",
        "output_list3 = [ [elem+num] for elem in input_list3 for num in range(0,3)]\n",
        "print(input_list3,'--->', output_list3)"
      ],
      "execution_count": null,
      "outputs": [
        {
          "output_type": "stream",
          "text": [
            "[2, 3, 4] ---> [[2], [3], [4], [3], [4], [5], [4], [5], [6]]\n"
          ],
          "name": "stdout"
        }
      ]
    },
    {
      "cell_type": "code",
      "metadata": {
        "id": "gY2qbHjGVOJO",
        "colab_type": "code",
        "colab": {
          "base_uri": "https://localhost:8080/",
          "height": 34
        },
        "outputId": "44e3c9ee-915b-4fca-a27b-6cee035e2205"
      },
      "source": [
        "input_list4 = [2,3,4,5]\n",
        "output_list4 = [ [elem+num for elem in input_list4] for num in range(0,4)] \n",
        "print(input_list4,'--->', output_list4)"
      ],
      "execution_count": null,
      "outputs": [
        {
          "output_type": "stream",
          "text": [
            "[2, 3, 4, 5] ---> [[2, 3, 4, 5], [3, 4, 5, 6], [4, 5, 6, 7], [5, 6, 7, 8]]\n"
          ],
          "name": "stdout"
        }
      ]
    },
    {
      "cell_type": "code",
      "metadata": {
        "id": "6y12lMudWIn0",
        "colab_type": "code",
        "colab": {
          "base_uri": "https://localhost:8080/",
          "height": 34
        },
        "outputId": "86059174-689f-4837-89a8-b37887e6159f"
      },
      "source": [
        "input_list5 = [1,2,3]\n",
        "output_list5 = [ (elem1, elem2) for elem1 in input_list5 for elem2 in input_list5] \n",
        "print(input_list5,'--->', output_list5)"
      ],
      "execution_count": null,
      "outputs": [
        {
          "output_type": "stream",
          "text": [
            "[1, 2, 3] ---> [(1, 1), (1, 2), (1, 3), (2, 1), (2, 2), (2, 3), (3, 1), (3, 2), (3, 3)]\n"
          ],
          "name": "stdout"
        }
      ]
    },
    {
      "cell_type": "code",
      "metadata": {
        "id": "TtcBXJSjWmxX",
        "colab_type": "code",
        "colab": {}
      },
      "source": [
        ""
      ],
      "execution_count": null,
      "outputs": []
    }
  ]
}