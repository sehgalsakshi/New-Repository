{
  "nbformat": 4,
  "nbformat_minor": 0,
  "metadata": {
    "colab": {
      "name": "Untitled4.ipynb",
      "provenance": [],
      "authorship_tag": "ABX9TyOQ0q1Xfebh7IZ/Ql4kaYAX",
      "include_colab_link": true
    },
    "kernelspec": {
      "name": "python3",
      "display_name": "Python 3"
    }
  },
  "cells": [
    {
      "cell_type": "markdown",
      "metadata": {
        "id": "view-in-github",
        "colab_type": "text"
      },
      "source": [
        "<a href=\"https://colab.research.google.com/github/sehgalsakshi/New-Repository/blob/master/4.ipynb\" target=\"_parent\"><img src=\"https://colab.research.google.com/assets/colab-badge.svg\" alt=\"Open In Colab\"/></a>"
      ]
    },
    {
      "cell_type": "markdown",
      "metadata": {
        "id": "TNgQrnU8X3aF",
        "colab_type": "text"
      },
      "source": [
        "#<center>Assignment-4</center>"
      ]
    },
    {
      "cell_type": "markdown",
      "metadata": {
        "id": "xq8pfEiHYXn0",
        "colab_type": "text"
      },
      "source": [
        "1.1 Write a Python Program(with class concepts) to find the area of the triangle using the below formula.<br>\n",
        "area = (s*(s-a)*(s-b)*(s-c)) ** 0.5\n",
        "<br>Function to take the length of the sides of triangle from user should be defined in the parent class and function to calculate the area should be defined in subclass."
      ]
    },
    {
      "cell_type": "code",
      "metadata": {
        "id": "LAj94wsdX0wd",
        "colab_type": "code",
        "colab": {}
      },
      "source": [
        "class Triangle_Sides:\n",
        "  def set_sides(self, a, b, c):\n",
        "    self.a = a\n",
        "    self.b = b\n",
        "    self.c = c"
      ],
      "execution_count": null,
      "outputs": []
    },
    {
      "cell_type": "code",
      "metadata": {
        "id": "dohupU1dajf0",
        "colab_type": "code",
        "colab": {}
      },
      "source": [
        "class Area_Triangle(Triangle_Sides):\n",
        "  def calculate_area(self):\n",
        "    s = (self.a + self.b + self.c)/2\n",
        "    area = (s* (s - self.a) * (s - self.b) * (s - self.c)) ** .5\n",
        "    return area"
      ],
      "execution_count": null,
      "outputs": []
    },
    {
      "cell_type": "code",
      "metadata": {
        "id": "SB8O9xBpbUZG",
        "colab_type": "code",
        "colab": {
          "base_uri": "https://localhost:8080/",
          "height": 34
        },
        "outputId": "2c4c80e3-cd03-4507-9ba0-4c7a53384f2f"
      },
      "source": [
        "area = Area_Triangle()\n",
        "area.set_sides(3,4,5)\n",
        "print(f'Area of triangle with sides {area.a, area.b, area.c} : {area.calculate_area()}')"
      ],
      "execution_count": null,
      "outputs": [
        {
          "output_type": "stream",
          "text": [
            "Area of triangle with sides (3, 4, 5) : 6.0\n"
          ],
          "name": "stdout"
        }
      ]
    },
    {
      "cell_type": "markdown",
      "metadata": {
        "id": "dsCMfAxJb7fM",
        "colab_type": "text"
      },
      "source": [
        "1.2 Write a function filter_long_words() that takes a list of words and an integer n and returns the list of words that are longer than n."
      ]
    },
    {
      "cell_type": "code",
      "metadata": {
        "id": "_nYblKNXbucV",
        "colab_type": "code",
        "colab": {}
      },
      "source": [
        "def filter_long_words(words, n):\n",
        "  result = [word for word in words if len(word)>n]\n",
        "  return result"
      ],
      "execution_count": null,
      "outputs": []
    },
    {
      "cell_type": "code",
      "metadata": {
        "id": "jN-1Wa6rcXI_",
        "colab_type": "code",
        "colab": {
          "base_uri": "https://localhost:8080/",
          "height": 34
        },
        "outputId": "c29f4f25-637d-480c-f866-9beab6f34b91"
      },
      "source": [
        "filter_long_words(['Hi','I\\'m', 'Sakshi','Sehgal'],2)"
      ],
      "execution_count": null,
      "outputs": [
        {
          "output_type": "execute_result",
          "data": {
            "text/plain": [
              "[\"I'm\", 'Sakshi', 'Sehgal']"
            ]
          },
          "metadata": {
            "tags": []
          },
          "execution_count": 12
        }
      ]
    },
    {
      "cell_type": "markdown",
      "metadata": {
        "id": "PRreeLTOcs5U",
        "colab_type": "text"
      },
      "source": [
        "2.1 Write a Python program using function concept that maps list of words into a list of integers representing the lengths of the corresponding words.<br>\n",
        "Hint: If a list [ ab,cde,erty] is passed on to the python function output should come as [2,3,4]<br>\n",
        "Here 2,3 and 4 are the lengths of the words in the list."
      ]
    },
    {
      "cell_type": "code",
      "metadata": {
        "id": "z1Waad-dcj4B",
        "colab_type": "code",
        "colab": {}
      },
      "source": [
        "def return_word_length(words):\n",
        "  return [len(word) for word in words]"
      ],
      "execution_count": null,
      "outputs": []
    },
    {
      "cell_type": "code",
      "metadata": {
        "id": "lRaHnLH7dKHu",
        "colab_type": "code",
        "colab": {
          "base_uri": "https://localhost:8080/",
          "height": 34
        },
        "outputId": "db50a44b-dfff-4663-8c00-f6474431d3e3"
      },
      "source": [
        "return_word_length(['Hi','I\\'m', 'Sakshi','Sehgal'])"
      ],
      "execution_count": null,
      "outputs": [
        {
          "output_type": "execute_result",
          "data": {
            "text/plain": [
              "[2, 3, 6, 6]"
            ]
          },
          "metadata": {
            "tags": []
          },
          "execution_count": 14
        }
      ]
    },
    {
      "cell_type": "markdown",
      "metadata": {
        "id": "Jg8xjJMoc5i2",
        "colab_type": "text"
      },
      "source": [
        "2.2 Write a Python function which takes a character (i.e. a string of length 1) and returns True if it is a vowel, False otherwise."
      ]
    },
    {
      "cell_type": "code",
      "metadata": {
        "id": "iVCbnc2jc6LG",
        "colab_type": "code",
        "colab": {}
      },
      "source": [
        "def is_vowel(char):\n",
        "  vowel = ['a','e','i','o','u']\n",
        "  return char in vowel"
      ],
      "execution_count": null,
      "outputs": []
    },
    {
      "cell_type": "code",
      "metadata": {
        "id": "5lm6CmggdfJK",
        "colab_type": "code",
        "colab": {
          "base_uri": "https://localhost:8080/",
          "height": 34
        },
        "outputId": "a8bfee37-a5d1-4fed-c780-535969d76d13"
      },
      "source": [
        "is_vowel('s')"
      ],
      "execution_count": null,
      "outputs": [
        {
          "output_type": "execute_result",
          "data": {
            "text/plain": [
              "False"
            ]
          },
          "metadata": {
            "tags": []
          },
          "execution_count": 16
        }
      ]
    },
    {
      "cell_type": "code",
      "metadata": {
        "id": "god3JJZHdhC-",
        "colab_type": "code",
        "colab": {
          "base_uri": "https://localhost:8080/",
          "height": 34
        },
        "outputId": "7c67fd96-6a80-4eef-c458-a37b8360e051"
      },
      "source": [
        "is_vowel('p')"
      ],
      "execution_count": null,
      "outputs": [
        {
          "output_type": "execute_result",
          "data": {
            "text/plain": [
              "False"
            ]
          },
          "metadata": {
            "tags": []
          },
          "execution_count": 17
        }
      ]
    },
    {
      "cell_type": "code",
      "metadata": {
        "id": "pj9S_oUwditW",
        "colab_type": "code",
        "colab": {
          "base_uri": "https://localhost:8080/",
          "height": 34
        },
        "outputId": "175c5f27-995c-4e57-daf5-62fb224e4227"
      },
      "source": [
        "is_vowel('i')"
      ],
      "execution_count": null,
      "outputs": [
        {
          "output_type": "execute_result",
          "data": {
            "text/plain": [
              "True"
            ]
          },
          "metadata": {
            "tags": []
          },
          "execution_count": 19
        }
      ]
    },
    {
      "cell_type": "code",
      "metadata": {
        "id": "ovQP6hJ5dkaL",
        "colab_type": "code",
        "colab": {}
      },
      "source": [
        ""
      ],
      "execution_count": null,
      "outputs": []
    }
  ]
}